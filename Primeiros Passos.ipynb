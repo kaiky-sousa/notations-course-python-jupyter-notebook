{
 "cells": [
  {
   "cell_type": "code",
   "execution_count": 2,
   "id": "5ea58b4c-c1ae-4f72-9d4d-10808bbe1346",
   "metadata": {},
   "outputs": [
    {
     "name": "stdout",
     "output_type": "stream",
     "text": [
      "Script executado com sucesso\n"
     ]
    }
   ],
   "source": [
    "# Este sinal serve para comentar um código para que o usuário saiba o que o código faz\n",
    "\n",
    "\"\"\"\n",
    "Usando 3 aspas podemos\n",
    "comentar várias linhas\n",
    "assim quando o código for executado\n",
    "o script pula estas linhas\n",
    "\"\"\"\n",
    "\n",
    "print(\"Script executado com sucesso\") # texto"
   ]
  },
  {
   "cell_type": "code",
   "execution_count": 15,
   "id": "fc36c5df-baec-48f0-9341-644dd4aa8327",
   "metadata": {},
   "outputs": [
    {
     "name": "stdout",
     "output_type": "stream",
     "text": [
      "Inteiro: 42\n",
      "Flutuante: 42.0\n",
      "Complexo: (3+4j)\n",
      "String: Olá, Mundo!\n",
      "Lista: [1, 2, 3]\n",
      "Tupla: (1, 2, 3, 4, 5)\n",
      "Conjunto: {1, 2, 3}\n",
      "Dicionario: {'chave': 'valor'}\n",
      "Booleano: True\n",
      "NoneType (None): None\n"
     ]
    }
   ],
   "source": [
    "\"\"\"\n",
    "O que é uma variável?\n",
    "\n",
    "Uma variável é um nome que se refere a um valor armazenado na memória do computador.\n",
    "Em programação variáveis são usadas para armazenar dados que podem ser utilizados\n",
    "e manipulados ao longo de um programa.\n",
    "\n",
    "Em Python, as variáveis não são declaradas com um tipo específico. No entanto, \n",
    "os tipos de dados que você pode armazenar em uma variável incluem:\n",
    "\"\"\"\n",
    "\n",
    "# Principais tipos de variáveis\n",
    "\n",
    "# Inteiros (int): Números inteiros, sem parte decimal\n",
    "inteiro = 42\n",
    "print(\"Inteiro:\", inteiro)\n",
    "\n",
    "# Ponto Flutuante (float): Números reais, que têm uma parte decimal\n",
    "flutuante = 42.0 #aceita casas decimais\n",
    "print(\"Flutuante:\", flutuante)\n",
    "\n",
    "# Complexos (complex): Números complexos, que têm uma parte real e outra parte imaginária\n",
    "complexo = 3 + 4j\n",
    "print(\"Complexo:\", complexo)\n",
    "\n",
    "# Strings (str): Sequências de caracteres.\n",
    "texto = \"Olá, Mundo!\"\n",
    "print(\"String:\", texto)\n",
    "\n",
    "\"\"\"\n",
    "Os termos \"mutável\" e \"imutável\" referem-se à capacidade de alterar o conteúdo\n",
    "de um objeto depois que ele foi criado\n",
    "\n",
    "Mutável: Significa que o conteúdo do objeto pode ser alterado após a sua criação. As\n",
    "listas em Python são mutáveis, o que significa que você pode modificar seus elementos.\n",
    "\n",
    "Imutável: Significa que o conteúdo do objeto não pode ser alterado após a sua criação. As\n",
    "tuplas em Python são imutáveis, o que significa que, uma vez criada, não pode modificar\n",
    "seus elementos.\n",
    "\"\"\"\n",
    "\n",
    "# Listas (list): Uma coleção ordenada e mutável\n",
    "listas = [1, 2, 3]\n",
    "print(\"Lista:\", listas)\n",
    "\n",
    "# Tuplas (tuple): Uma coleção ordenada e imutável.\n",
    "tupla = (1, 2, 3, 4, 5)\n",
    "print(\"Tupla:\", tupla)\n",
    "\n",
    "# Conjuntos (set): Uma coleção não ordenada de itens únicos (não se repetem)\n",
    "conjunto = {1, 2, 3}\n",
    "print(\"Conjunto:\", conjunto)\n",
    "\n",
    "# Dicionários (dict): Uma coleção não ordenada de pares chave-valor.\n",
    "dicionario = {\"chave\": \"valor\"}\n",
    "print(\"Dicionario:\", dicionario)\n",
    "\n",
    "# Booleanos (bool): Valores verdadeiro ou falso (True or False)\n",
    "booleano = True\n",
    "print(\"Booleano:\", booleano)\n",
    "\n",
    "# NoneType (None): Um tipo especial que representa a ausência de valor\n",
    "nenhum = None\n",
    "print(\"NoneType (None):\", nenhum)"
   ]
  },
  {
   "cell_type": "code",
   "execution_count": null,
   "id": "fd0f98b8-244e-4142-a3ab-891e91107c02",
   "metadata": {},
   "outputs": [],
   "source": []
  },
  {
   "cell_type": "code",
   "execution_count": 19,
   "id": "2b4459c7-2d9a-4b97-b644-9c1131156f67",
   "metadata": {},
   "outputs": [
    {
     "name": "stdout",
     "output_type": "stream",
     "text": [
      "Nome: Nicole\n",
      "Idade: 30\n",
      "Nome: Nicole - Idade: 30\n"
     ]
    }
   ],
   "source": [
    "# Variaveis\n",
    "\n",
    "idade = 30\n",
    "nome = \"Kaiky\"\n",
    "\n",
    "print(\"Nome:\", nome)\n",
    "print(\"Idade:\", idade)\n",
    "print(\"Nome:\", nome, \"- Idade:\", idade)"
   ]
  },
  {
   "cell_type": "code",
   "execution_count": null,
   "id": "cead0bbf-0f1a-450d-a36c-4aa9351f9d11",
   "metadata": {},
   "outputs": [],
   "source": []
  },
  {
   "cell_type": "code",
   "execution_count": 23,
   "id": "342ec250-6c86-4003-b531-d367b4c2d217",
   "metadata": {},
   "outputs": [
    {
     "name": "stdout",
     "output_type": "stream",
     "text": [
      "<class 'str'>\n",
      "<class 'str'>\n"
     ]
    }
   ],
   "source": [
    "nome = str(\"Kaiky\")\n",
    "idade = str(31) # Casting, alterado de forma explicita o tipo da variável\n",
    "\n",
    "\"\"\"\n",
    "A função type() retorna o tipo da variável, nome, que é <class 'str'>, já que nome\n",
    "é uma string. Esse valor é então impresso, resultando na saída\n",
    "\"\"\"\n",
    "print(type(nome))\n",
    "print(type(idade))"
   ]
  },
  {
   "cell_type": "code",
   "execution_count": 25,
   "id": "96def06a-949e-4a5c-a80c-301f032ef2f1",
   "metadata": {},
   "outputs": [
    {
     "name": "stdout",
     "output_type": "stream",
     "text": [
      "Ana\n",
      "30\n"
     ]
    }
   ],
   "source": [
    "#As variáveis diferenciam letras maiúsculas de minúsculas\n",
    "\n",
    "i = 30\n",
    "I = \"Kaiky\"\n",
    "\n",
    "print(I)\n",
    "print(i)"
   ]
  },
  {
   "cell_type": "code",
   "execution_count": 29,
   "id": "003fa90e-eba4-4b56-9cd6-2f9e8a1ed7a3",
   "metadata": {},
   "outputs": [
    {
     "name": "stdout",
     "output_type": "stream",
     "text": [
      "Texto1\n",
      "Texto2\n",
      "Texto3\n",
      "Texto4\n"
     ]
    }
   ],
   "source": [
    "#Podemos também atribuir valores a várias variáveis em uma só linha\n",
    "\n",
    "\"\"\"\n",
    "O código está utilizando a desempacotamento de tuplas para atribuir\n",
    "várias variáveis em uma única linha e, em seguida, imprimindo essas variáveis.\n",
    "\n",
    "var1, var2, var3, var4 = \"Texto1\", \"Texto2\", \"Texto3\", \"Texto4\":\n",
    "Nesta linha, quatro strings são atribuídas a quatro variáveis respectivas\n",
    "em uma única operação.\n",
    "\n",
    "A variável var1 é atribuída à string \"Texto 1\",\n",
    "var2 à string \"Texto 2\",\n",
    "var3 à string \"Texto 3\",\n",
    "var4 à string \"Texto 4\",\n",
    "\"\"\"\n",
    "\n",
    "var1, var2, var3, var4 = \"Texto1\", \"Texto2\", \"Texto3\", \"Texto4\"\n",
    "\n",
    "print(var1)\n",
    "print(var2)\n",
    "print(var3)\n",
    "print(var4)"
   ]
  },
  {
   "cell_type": "code",
   "execution_count": 31,
   "id": "9eaf08de-b462-4c8a-8460-fb190533afe0",
   "metadata": {},
   "outputs": [
    {
     "name": "stdout",
     "output_type": "stream",
     "text": [
      "Ana Paula\n",
      "Ana Paula\n",
      "Ana Paula\n",
      "Ana Paula\n"
     ]
    }
   ],
   "source": [
    "#Podemos atribuir o mesmo valor a várias variáveis em uma única linha\n",
    "\n",
    "var1 = var2 = var3 = var4 = \"Kaikyy\"\n",
    "\n",
    "print(var1)\n",
    "print(var2)\n",
    "print(var3)\n",
    "print(var4)"
   ]
  },
  {
   "cell_type": "code",
   "execution_count": 33,
   "id": "d7281b23-cac4-4b21-b479-70f3333fa494",
   "metadata": {},
   "outputs": [
    {
     "name": "stdout",
     "output_type": "stream",
     "text": [
      "Texto 1\n",
      "Texto 2\n",
      "Texto 3\n",
      "Texto 4\n"
     ]
    }
   ],
   "source": [
    "# Se tiver uma coleção de valores em uma lista, podemos extrair em variáveis. Isso é chamado de descompactar\n",
    "\n",
    "exemplo = \"Texto 1\", \"Texto 2\", \"Texto 3\", \"Texto 4\"\n",
    "var1, var2, var3, var4 = exemplo\n",
    "\n",
    "print(var1)\n",
    "print(var2)\n",
    "print(var3)\n",
    "print(var4)"
   ]
  },
  {
   "cell_type": "code",
   "execution_count": 35,
   "id": "428a14cf-5238-450b-89d8-ec6fe574365c",
   "metadata": {},
   "outputs": [
    {
     "name": "stdout",
     "output_type": "stream",
     "text": [
      "O nome dela é Ana Paula\n"
     ]
    }
   ],
   "source": [
    "#Para juntar textos e variáveis em Python usamos o caracter + ou ,\n",
    "\n",
    "nome = \"Kaiky\"\n",
    "\n",
    "print(\"O nome dela é \" + nome)"
   ]
  },
  {
   "cell_type": "code",
   "execution_count": 37,
   "id": "48e82e1c-25a0-46da-be4e-e727a86db43f",
   "metadata": {},
   "outputs": [
    {
     "name": "stdout",
     "output_type": "stream",
     "text": [
      "DezCinco\n"
     ]
    }
   ],
   "source": [
    "# String o + junta e número ele soma\n",
    "numero1 = \"Dez\"\n",
    "numero2 = \"Cinco\"\n",
    "\n",
    "print(numero1 + numero2)"
   ]
  },
  {
   "cell_type": "code",
   "execution_count": null,
   "id": "66482b33-13d0-46b6-b829-26aedc08993e",
   "metadata": {},
   "outputs": [],
   "source": []
  },
  {
   "cell_type": "code",
   "execution_count": 39,
   "id": "51e2b3ba-ed4d-4dca-89d8-496c51ae935a",
   "metadata": {},
   "outputs": [
    {
     "name": "stdout",
     "output_type": "stream",
     "text": [
      "Nome completo: Kaiky Sousa\n"
     ]
    }
   ],
   "source": [
    "#Para juntar textos e variáveis em Python usamos o caracter + ou ,\n",
    "\n",
    "nome = \"Kaiky\"\n",
    "sobrenome = \"Sousa\"\n",
    "\n",
    "print(\"Nome completo: \" + nome + \" \" + sobrenome) # concatenação"
   ]
  },
  {
   "cell_type": "code",
   "execution_count": null,
   "id": "1aa5916d-371d-41e4-9b0b-7e9078599628",
   "metadata": {},
   "outputs": [],
   "source": []
  },
  {
   "cell_type": "code",
   "execution_count": 41,
   "id": "6cd11a8e-ed6b-4e6d-b620-9eda40774fa2",
   "metadata": {},
   "outputs": [
    {
     "name": "stdout",
     "output_type": "stream",
     "text": [
      "Soma: 125.5\n"
     ]
    }
   ],
   "source": [
    "# Exercício de Variáveis em Python 1\n",
    "\n",
    "# 1. Declare uma variável chamada \"idade\" e atribua o valor 25 a ela.\n",
    "idade = 25\n",
    "\n",
    "# 2. Declare uma variável chamada \"nome\" e atribua o valor \"João\" a ela.\n",
    "nome = \"João\"\n",
    "\n",
    "# 3. Declare uma variável chamada \"saldo\" e atribua o valor 100.50 a ela.\n",
    "saldo = 100.50\n",
    "\n",
    "# 4. Crie uma variável chamada \"soma\" e atribua a ela a soma das variáveis \"idade\" e \"saldo\"\n",
    "soma = (idade + saldo)\n",
    "\n",
    "# 5. Imprima na tela o valor da variável \"soma\".\n",
    "print(\"Soma:\",soma)\n"
   ]
  },
  {
   "cell_type": "code",
   "execution_count": 48,
   "id": "80cdd61a-f697-42f4-830a-de73d0dc0a7b",
   "metadata": {},
   "outputs": [
    {
     "name": "stdout",
     "output_type": "stream",
     "text": [
      "Media 1: 7.57\n",
      "Media 2: 7.57\n"
     ]
    }
   ],
   "source": [
    "# Exercício de Variáveis em Python 2\n",
    "\n",
    "# 1. Crie uma variável chamada \"nota1\" e atribua o valor 7.5 a ela\n",
    "nota1 = 7.5\n",
    "\n",
    "# 2. Crie uma variável chamada \"nota2\" e atribua o valor 8.3 a ela\n",
    "nota2 = 8.3\n",
    "\n",
    "# 3. Crie uma variável chamada \"nota3\" e atribua o valor 6.9 a ela\n",
    "nota3 = 6.9\n",
    "\n",
    "# 4. Calcule a média das três notas e atribua o resultado a uma variável chamada \"media\".\n",
    "media = (nota1 + nota2 + nota3) / 3\n",
    "\n",
    "# 5. Imprima na tela o valor da variável \"media\" formatado com duas casas decimais.\n",
    "print(f\"Media 1: {media:.2f}\") #F-Strings para formatar o número de casas decimais\n",
    "print(\"Media 2:\", format(media, \".2f\"))\n"
   ]
  },
  {
   "cell_type": "code",
   "execution_count": 54,
   "id": "cc44a84b-6ab8-4da8-b2e8-e33923c11dc7",
   "metadata": {},
   "outputs": [
    {
     "name": "stdout",
     "output_type": "stream",
     "text": [
      "-2003\n",
      "Olá, meu nome é Kaiky eu tenho 22 anos e nasci em -2003\n"
     ]
    }
   ],
   "source": [
    "# Exercício: Manipulação de Variáveis - UDEMY\n",
    "\n",
    "nome = \"Kaiky\"\n",
    "idade = 22\n",
    "ano_atual = 2025\n",
    "\n",
    "ano_nascimento = idade++ - 2025 #incremento\n",
    "print(ano_nascimento)\n",
    "\n",
    "print(f\"Olá, meu nome é {nome} eu tenho {idade} anos e nasci em {ano_nascimento}\")\n"
   ]
  },
  {
   "cell_type": "code",
   "execution_count": null,
   "id": "34f66103-dcd0-45d6-8d6d-a9a56f448cb2",
   "metadata": {},
   "outputs": [],
   "source": []
  },
  {
   "cell_type": "code",
   "execution_count": 1,
   "id": "8a47e6cf-1631-412c-b48f-41103cb5ccda",
   "metadata": {},
   "outputs": [
    {
     "name": "stdin",
     "output_type": "stream",
     "text": [
      "Digite seu nome: \n",
      " Kaiky Sousa\n"
     ]
    },
    {
     "name": "stdout",
     "output_type": "stream",
     "text": [
      "\n",
      "O seu nome é: Kaiky Sousa\n"
     ]
    }
   ],
   "source": [
    "# Função input (entrada de dados)\n",
    "# \\n - Quebra de linha\n",
    "nome = input(\"Digite seu nome: \\n\")\n",
    "\n",
    "print(f\"\\nO seu nome é: {nome}\")"
   ]
  },
  {
   "cell_type": "code",
   "execution_count": null,
   "id": "99f09e55-6ac3-44dc-a83e-449a4cea3f78",
   "metadata": {},
   "outputs": [],
   "source": []
  },
  {
   "cell_type": "code",
   "execution_count": 8,
   "id": "693e7e48-b5f1-4c5e-95e4-6ff518e9228b",
   "metadata": {},
   "outputs": [
    {
     "name": "stdin",
     "output_type": "stream",
     "text": [
      "Digite seu nome: \n",
      " Kaiky\n",
      "Digite a nota 1: 7\n",
      "Digite a nota 2: 2\n"
     ]
    },
    {
     "name": "stdout",
     "output_type": "stream",
     "text": [
      "Aluno Kaiky Média 4.50\n"
     ]
    }
   ],
   "source": [
    "\"\"\"\n",
    "Solicita ao usuário que insira seu nome e duas notas, calcula a média dessas notas e,\n",
    "em seguida, imprime uma mensagem contendo o nome do aluno e a média calculada.\n",
    "\"\"\"\n",
    "\n",
    "nome = input(\"Digite seu nome: \\n\")\n",
    "nota1 = float(input(\"Digite a nota 1:\")) #casting, input padrão recebe string\n",
    "nota2 = float(input(\"Digite a nota 2:\"))\n",
    "\n",
    "media = (nota1 + nota2) / 2\n",
    "\n",
    "print(f\"Aluno {nome} Média {media:.2f}\")"
   ]
  },
  {
   "cell_type": "code",
   "execution_count": null,
   "id": "dcc4e860-bca8-4d48-bebf-5fb2dbfb9f90",
   "metadata": {},
   "outputs": [],
   "source": []
  },
  {
   "cell_type": "code",
   "execution_count": 24,
   "id": "fd81eb1f-d993-4bda-8b52-6a4ea28ff4e8",
   "metadata": {},
   "outputs": [
    {
     "name": "stdin",
     "output_type": "stream",
     "text": [
      "A tabuada de qual número deseja ver?: \n",
      " 9\n"
     ]
    },
    {
     "name": "stdout",
     "output_type": "stream",
     "text": [
      "9 * 1 = 9\n",
      "9 * 2 = 18\n",
      "9 * 3 = 27\n",
      "9 * 4 = 36\n",
      "9 * 5 = 45\n",
      "9 * 6 = 54\n",
      "9 * 7 = 63\n",
      "9 * 8 = 72\n",
      "9 * 9 = 81\n",
      "9 * 10 = 90\n"
     ]
    }
   ],
   "source": [
    "\"\"\"\n",
    "Exercício: Tabuada Personalizada\n",
    "\n",
    "Escreva um programa que solicite ao usuário um número inteiro e exiba a tabuada desse número, do 1 ao 10.\n",
    "\n",
    "Entrada:\n",
    "\n",
    "    Um número inteiro n, representando o número do qual você deseja ver a tabuada\n",
    "\n",
    "Saída:\n",
    "\n",
    "    O programa deve imprimir dez linhas, mostrando o resultado da multiplicação do\n",
    "    número digitado com os números de 1 a 10, no formato n * i = resultado, onde n é o número\n",
    "    digitado pelo usuário e i varia de 1 a 10.\n",
    "\n",
    "Exemplo de entrada:\n",
    "\n",
    "    A tabuada de qual número deseja ver 5\n",
    "\n",
    "Exemplo de saída:\n",
    "\n",
    "5* 1 = 5\n",
    "5* 2 = 10\n",
    "5* 3 = 15\n",
    "5* 4 = 20\n",
    "5* 5 = 25\n",
    "5* 6 = 30\n",
    "5* 7 = 35\n",
    "5* 8 = 40\n",
    "5* 9 = 45\n",
    "5* 10 = 50\n",
    "\"\"\"\n",
    "\n",
    "#Entrada de dados\n",
    "n = int(input(\"A tabuada de qual número deseja ver?: \\n\"))\n",
    "\n",
    "# Saída de dados\n",
    "print(f\"{n} * 1 = {n * 1}\")\n",
    "print(f\"{n} * 2 = {n * 2}\")\n",
    "print(f\"{n} * 3 = {n * 3}\")\n",
    "print(f\"{n} * 4 = {n * 4}\")\n",
    "print(f\"{n} * 5 = {n * 5}\")\n",
    "print(f\"{n} * 6 = {n * 6}\")\n",
    "print(f\"{n} * 7 = {n * 7}\")\n",
    "print(f\"{n} * 8 = {n * 8}\")\n",
    "print(f\"{n} * 9 = {n * 9}\")\n",
    "print(f\"{n} * 10 = {n * 10}\")"
   ]
  },
  {
   "cell_type": "code",
   "execution_count": null,
   "id": "0549100b-7a57-47e8-9641-9b9ae02c2b38",
   "metadata": {},
   "outputs": [],
   "source": []
  },
  {
   "cell_type": "code",
   "execution_count": 32,
   "id": "5618183e-9f5b-43d2-9663-71f0d4d0b778",
   "metadata": {},
   "outputs": [
    {
     "name": "stdout",
     "output_type": "stream",
     "text": [
      "ALGORITMO DE IDADE ATUAL\n",
      "\n"
     ]
    },
    {
     "name": "stdin",
     "output_type": "stream",
     "text": [
      "Digite seu ano de nascimento:  1945\n"
     ]
    },
    {
     "name": "stdout",
     "output_type": "stream",
     "text": [
      "Com base no ano atual 2025 você tem -80 anos\n"
     ]
    }
   ],
   "source": [
    "from datetime import date\n",
    "\n",
    "\"\"\"\n",
    "Exercício\n",
    "\n",
    "Crie um algoritmo que solicite o ano de nascimento do usuário e\n",
    "com base no ano imprima a idade\n",
    "\n",
    "ano atual - ano digitado\n",
    "\"\"\"\n",
    "print(\"ALGORITMO DE IDADE ATUAL\\n\")\n",
    "dtNascimento = int(input(\"Digite seu ano de nascimento: \"))\n",
    "anoAtual = date.today().year\n",
    "\n",
    "CURRENT_AGE = dtNascimento - anoAtual\n",
    "\n",
    "print(f\"Com base no ano atual {anoAtual} você tem {CURRENT_AGE} anos\")\n"
   ]
  },
  {
   "cell_type": "code",
   "execution_count": null,
   "id": "1202e46f-b552-4349-b2c5-3379444b4a15",
   "metadata": {},
   "outputs": [],
   "source": []
  },
  {
   "cell_type": "code",
   "execution_count": 61,
   "id": "d53e00fd-c132-41db-9370-f02eec9ff632",
   "metadata": {},
   "outputs": [
    {
     "name": "stdout",
     "output_type": "stream",
     "text": [
      "68\n",
      "0.40604895398918417\n",
      "15\n",
      "banana\n",
      "[3, 5, 4, 1, 2]\n",
      "8.992085762452545\n"
     ]
    }
   ],
   "source": [
    "# Aula sobre números randomicos - Números aleatórios\n",
    "import random\n",
    "\n",
    "print(random.randrange(1, 100))\n",
    "\n",
    "#Gerar um número de ponto flutuante aleatório entre 0 e 1:\n",
    "print(random.random())\n",
    "\n",
    "#Gerar um número inteiro aleatório entre dois valores (inclusive):\n",
    "print(random.randint(10, 20))\n",
    "\n",
    "#Escolher aleatoriamente um elemento de uma lista\n",
    "frutas = [\"maça\", \"banana\", \"caqui\"]\n",
    "print(random.choice(frutas)) #Escolhe uma fruta aleatoriamente da lista\n",
    "\n",
    "#Embaralhar aleatoriamente uma lista\n",
    "numeros = [1,2,3,4,5]\n",
    "random.shuffle(numeros)\n",
    "print(numeros) #A lista 'numeros' agora está embaralhada.\n",
    "\n",
    "#Gerar um número de ponto flutuante aleatório em um intervalo específico\n",
    "print(random.uniform(5.5, 9.5)) #Gera um número de ponto flutuante entre 5.5 e 9.5"
   ]
  },
  {
   "cell_type": "code",
   "execution_count": null,
   "id": "2e4bc59c-7fd3-43ec-a76c-9f1b06c22547",
   "metadata": {},
   "outputs": [],
   "source": []
  },
  {
   "cell_type": "code",
   "execution_count": null,
   "id": "cf6d5c87-dab6-429a-9da4-4691912432fd",
   "metadata": {},
   "outputs": [],
   "source": []
  },
  {
   "cell_type": "code",
   "execution_count": null,
   "id": "2084a128-8c0c-4fe6-a68e-cea6dc7e5d2d",
   "metadata": {},
   "outputs": [],
   "source": []
  }
 ],
 "metadata": {
  "kernelspec": {
   "display_name": "Python [conda env:base] *",
   "language": "python",
   "name": "conda-base-py"
  },
  "language_info": {
   "codemirror_mode": {
    "name": "ipython",
    "version": 3
   },
   "file_extension": ".py",
   "mimetype": "text/x-python",
   "name": "python",
   "nbconvert_exporter": "python",
   "pygments_lexer": "ipython3",
   "version": "3.13.5"
  }
 },
 "nbformat": 4,
 "nbformat_minor": 5
}
